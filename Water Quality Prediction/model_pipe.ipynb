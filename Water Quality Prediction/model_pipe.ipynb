{
 "cells": [
  {
   "cell_type": "code",
   "execution_count": 1,
   "metadata": {},
   "outputs": [],
   "source": [
    "import pprint  # Import pprint module for pretty printing\n",
    "import requests  # Import requests module for making HTTP requests\n",
    "import os  # Operating system dependent functionality\n",
    "import pickle  # Import pickle module for serializing and deserializing Python objects\n",
    "import numpy as np  # Import numpy for numerical operations\n",
    "import pandas as pd  # Import pandas for data manipulation and analysis\n",
    "import firebase_admin\n",
    "import matplotlib.pyplot as plt  # Import matplotlib for plotting\n",
    "from xgboost import XGBClassifier  # Import XGBoost classifier\n",
    "from sklearn.ensemble import RandomForestClassifier  # Import RandomForest classifier\n",
    "from sklearn.model_selection import train_test_split  # Import train_test_split function for splitting data\n",
    "from firebase_admin import credentials, initialize_app, db\n",
    "from sklearn.metrics import confusion_matrix, classification_report, ConfusionMatrixDisplay  # Import functions and classes for model evaluation\n"
   ]
  },
  {
   "cell_type": "code",
   "execution_count": 2,
   "metadata": {},
   "outputs": [],
   "source": [
    "def ph2label(ph):\n",
    "    if ph <= 5:\n",
    "        return 0\n",
    "    elif ph <= 8:\n",
    "        return 1\n",
    "    else:\n",
    "        return 2\n",
    "\n",
    "\n",
    "def generate_dataset(\n",
    "                    n_samples=10000,\n",
    "                    data_path='dataset.csv'\n",
    "                    ):\n",
    "    \"\"\"\n",
    "    Generate a synthetic dataset of water quality measurements.\n",
    "\n",
    "    Args:\n",
    "    n_samples (int): Number of samples to generate. Default is 5000.\n",
    "    data_path (str): Path to save/load the generated dataset. Default is 'dataset.csv'.\n",
    "\n",
    "    Returns:\n",
    "    tuple: A tuple containing the feature matrix X and target vector Y.\n",
    "    \"\"\"\n",
    "    # Define the ranges for each feature\n",
    "    ranges = [\n",
    "        (0, 14),                 # pH range\n",
    "        (0, 100),                # Turbidity range\n",
    "        (0, 1000),               # TDS range\n",
    "        (15, 80),                # Water temperature range\n",
    "        (15, 100),               # Humidity range\n",
    "        (15, 80)                 # Temperature range\n",
    "    ]\n",
    "    \n",
    "    # Define column names\n",
    "    columns = [\n",
    "        'ph',\n",
    "        'turbidity',\n",
    "        'tds',\n",
    "        'water_temperature',\n",
    "        'humidity',\n",
    "        'temperature'\n",
    "    ]\n",
    "\n",
    "    # Check if the dataset file exists, if not generate it\n",
    "    if not os.path.exists(data_path):\n",
    "        # Create an empty DataFrame with specified columns\n",
    "        dataset = pd.DataFrame(columns=columns)\n",
    "        \n",
    "        # Generate n_samples random samples within defined ranges\n",
    "        for i in range(n_samples):\n",
    "            row = [np.random.uniform(r[0], r[1]) for r in ranges]\n",
    "            dataset.loc[i] = row\n",
    "        \n",
    "        # Assign quality label based on pH value\n",
    "        dataset['quality'] = dataset['ph'].apply(lambda x: ph2label(x))\n",
    "        \n",
    "        # Save the generated dataset to a CSV file\n",
    "        dataset.to_csv(data_path, index=False)\n",
    "\n",
    "    # Read the dataset from the CSV file\n",
    "    data = pd.read_csv(data_path)\n",
    "    \n",
    "    # Extract feature matrix X and target vector Y\n",
    "    Y = data['quality'].values  \n",
    "    X = data.drop('quality', axis=1).values\n",
    "\n",
    "    return X, Y\n"
   ]
  },
  {
   "cell_type": "code",
   "execution_count": 3,
   "metadata": {},
   "outputs": [
    {
     "name": "stdout",
     "output_type": "stream",
     "text": [
      "Xtrain shape:  (8000, 6)\n",
      "Ytrain shape:  (8000,)\n",
      "Xtest shape:  (2000, 6)\n",
      "Ytest shape:  (2000,)\n"
     ]
    }
   ],
   "source": [
    "# Generate synthetic dataset of water quality measurements\n",
    "X, Y = generate_dataset()\n",
    "\n",
    "# Split the dataset into training and testing sets\n",
    "Xtrain, Xtest, Ytrain, Ytest = train_test_split(X, Y, test_size=0.2)\n",
    "\n",
    "# Print shapes of the training and testing data arrays\n",
    "print(\"Xtrain shape: \", Xtrain.shape)  # Print shape of training input data\n",
    "print(\"Ytrain shape: \", Ytrain.shape)  # Print shape of training target data\n",
    "print(\"Xtest shape: \", Xtest.shape)    # Print shape of testing input data\n",
    "print(\"Ytest shape: \", Ytest.shape)    # Print shape of testing target data\n"
   ]
  },
  {
   "cell_type": "code",
   "execution_count": 4,
   "metadata": {},
   "outputs": [
    {
     "data": {
      "text/html": [
       "<style>#sk-container-id-1 {color: black;}#sk-container-id-1 pre{padding: 0;}#sk-container-id-1 div.sk-toggleable {background-color: white;}#sk-container-id-1 label.sk-toggleable__label {cursor: pointer;display: block;width: 100%;margin-bottom: 0;padding: 0.3em;box-sizing: border-box;text-align: center;}#sk-container-id-1 label.sk-toggleable__label-arrow:before {content: \"▸\";float: left;margin-right: 0.25em;color: #696969;}#sk-container-id-1 label.sk-toggleable__label-arrow:hover:before {color: black;}#sk-container-id-1 div.sk-estimator:hover label.sk-toggleable__label-arrow:before {color: black;}#sk-container-id-1 div.sk-toggleable__content {max-height: 0;max-width: 0;overflow: hidden;text-align: left;background-color: #f0f8ff;}#sk-container-id-1 div.sk-toggleable__content pre {margin: 0.2em;color: black;border-radius: 0.25em;background-color: #f0f8ff;}#sk-container-id-1 input.sk-toggleable__control:checked~div.sk-toggleable__content {max-height: 200px;max-width: 100%;overflow: auto;}#sk-container-id-1 input.sk-toggleable__control:checked~label.sk-toggleable__label-arrow:before {content: \"▾\";}#sk-container-id-1 div.sk-estimator input.sk-toggleable__control:checked~label.sk-toggleable__label {background-color: #d4ebff;}#sk-container-id-1 div.sk-label input.sk-toggleable__control:checked~label.sk-toggleable__label {background-color: #d4ebff;}#sk-container-id-1 input.sk-hidden--visually {border: 0;clip: rect(1px 1px 1px 1px);clip: rect(1px, 1px, 1px, 1px);height: 1px;margin: -1px;overflow: hidden;padding: 0;position: absolute;width: 1px;}#sk-container-id-1 div.sk-estimator {font-family: monospace;background-color: #f0f8ff;border: 1px dotted black;border-radius: 0.25em;box-sizing: border-box;margin-bottom: 0.5em;}#sk-container-id-1 div.sk-estimator:hover {background-color: #d4ebff;}#sk-container-id-1 div.sk-parallel-item::after {content: \"\";width: 100%;border-bottom: 1px solid gray;flex-grow: 1;}#sk-container-id-1 div.sk-label:hover label.sk-toggleable__label {background-color: #d4ebff;}#sk-container-id-1 div.sk-serial::before {content: \"\";position: absolute;border-left: 1px solid gray;box-sizing: border-box;top: 0;bottom: 0;left: 50%;z-index: 0;}#sk-container-id-1 div.sk-serial {display: flex;flex-direction: column;align-items: center;background-color: white;padding-right: 0.2em;padding-left: 0.2em;position: relative;}#sk-container-id-1 div.sk-item {position: relative;z-index: 1;}#sk-container-id-1 div.sk-parallel {display: flex;align-items: stretch;justify-content: center;background-color: white;position: relative;}#sk-container-id-1 div.sk-item::before, #sk-container-id-1 div.sk-parallel-item::before {content: \"\";position: absolute;border-left: 1px solid gray;box-sizing: border-box;top: 0;bottom: 0;left: 50%;z-index: -1;}#sk-container-id-1 div.sk-parallel-item {display: flex;flex-direction: column;z-index: 1;position: relative;background-color: white;}#sk-container-id-1 div.sk-parallel-item:first-child::after {align-self: flex-end;width: 50%;}#sk-container-id-1 div.sk-parallel-item:last-child::after {align-self: flex-start;width: 50%;}#sk-container-id-1 div.sk-parallel-item:only-child::after {width: 0;}#sk-container-id-1 div.sk-dashed-wrapped {border: 1px dashed gray;margin: 0 0.4em 0.5em 0.4em;box-sizing: border-box;padding-bottom: 0.4em;background-color: white;}#sk-container-id-1 div.sk-label label {font-family: monospace;font-weight: bold;display: inline-block;line-height: 1.2em;}#sk-container-id-1 div.sk-label-container {text-align: center;}#sk-container-id-1 div.sk-container {/* jupyter's `normalize.less` sets `[hidden] { display: none; }` but bootstrap.min.css set `[hidden] { display: none !important; }` so we also need the `!important` here to be able to override the default hidden behavior on the sphinx rendered scikit-learn.org. See: https://github.com/scikit-learn/scikit-learn/issues/21755 */display: inline-block !important;position: relative;}#sk-container-id-1 div.sk-text-repr-fallback {display: none;}</style><div id=\"sk-container-id-1\" class=\"sk-top-container\"><div class=\"sk-text-repr-fallback\"><pre>XGBClassifier(base_score=None, booster=None, callbacks=None,\n",
       "              colsample_bylevel=None, colsample_bynode=None,\n",
       "              colsample_bytree=None, device=None, early_stopping_rounds=None,\n",
       "              enable_categorical=False, eval_metric=None, feature_types=None,\n",
       "              gamma=None, grow_policy=None, importance_type=None,\n",
       "              interaction_constraints=None, learning_rate=None, max_bin=None,\n",
       "              max_cat_threshold=None, max_cat_to_onehot=None,\n",
       "              max_delta_step=None, max_depth=None, max_leaves=None,\n",
       "              min_child_weight=None, missing=nan, monotone_constraints=None,\n",
       "              multi_strategy=None, n_estimators=None, n_jobs=None,\n",
       "              num_parallel_tree=None, objective=&#x27;multi:softprob&#x27;, ...)</pre><b>In a Jupyter environment, please rerun this cell to show the HTML representation or trust the notebook. <br />On GitHub, the HTML representation is unable to render, please try loading this page with nbviewer.org.</b></div><div class=\"sk-container\" hidden><div class=\"sk-item\"><div class=\"sk-estimator sk-toggleable\"><input class=\"sk-toggleable__control sk-hidden--visually\" id=\"sk-estimator-id-1\" type=\"checkbox\" checked><label for=\"sk-estimator-id-1\" class=\"sk-toggleable__label sk-toggleable__label-arrow\">XGBClassifier</label><div class=\"sk-toggleable__content\"><pre>XGBClassifier(base_score=None, booster=None, callbacks=None,\n",
       "              colsample_bylevel=None, colsample_bynode=None,\n",
       "              colsample_bytree=None, device=None, early_stopping_rounds=None,\n",
       "              enable_categorical=False, eval_metric=None, feature_types=None,\n",
       "              gamma=None, grow_policy=None, importance_type=None,\n",
       "              interaction_constraints=None, learning_rate=None, max_bin=None,\n",
       "              max_cat_threshold=None, max_cat_to_onehot=None,\n",
       "              max_delta_step=None, max_depth=None, max_leaves=None,\n",
       "              min_child_weight=None, missing=nan, monotone_constraints=None,\n",
       "              multi_strategy=None, n_estimators=None, n_jobs=None,\n",
       "              num_parallel_tree=None, objective=&#x27;multi:softprob&#x27;, ...)</pre></div></div></div></div></div>"
      ],
      "text/plain": [
       "XGBClassifier(base_score=None, booster=None, callbacks=None,\n",
       "              colsample_bylevel=None, colsample_bynode=None,\n",
       "              colsample_bytree=None, device=None, early_stopping_rounds=None,\n",
       "              enable_categorical=False, eval_metric=None, feature_types=None,\n",
       "              gamma=None, grow_policy=None, importance_type=None,\n",
       "              interaction_constraints=None, learning_rate=None, max_bin=None,\n",
       "              max_cat_threshold=None, max_cat_to_onehot=None,\n",
       "              max_delta_step=None, max_depth=None, max_leaves=None,\n",
       "              min_child_weight=None, missing=nan, monotone_constraints=None,\n",
       "              multi_strategy=None, n_estimators=None, n_jobs=None,\n",
       "              num_parallel_tree=None, objective='multi:softprob', ...)"
      ]
     },
     "execution_count": 4,
     "metadata": {},
     "output_type": "execute_result"
    }
   ],
   "source": [
    "# Initialize and train a RandomForestClassifier\n",
    "rfc = RandomForestClassifier()\n",
    "rfc.fit(Xtrain, Ytrain)\n",
    "\n",
    "# Initialize and train an XGBClassifier\n",
    "xgb = XGBClassifier()\n",
    "xgb.fit(Xtrain, Ytrain)\n"
   ]
  },
  {
   "cell_type": "code",
   "execution_count": 5,
   "metadata": {},
   "outputs": [
    {
     "name": "stdout",
     "output_type": "stream",
     "text": [
      "================== Random Forest Classifier ==========\n",
      "              precision    recall  f1-score   support\n",
      "\n",
      "           0       1.00      1.00      1.00       727\n",
      "           1       1.00      1.00      1.00       412\n",
      "           2       1.00      1.00      1.00       861\n",
      "\n",
      "    accuracy                           1.00      2000\n",
      "   macro avg       1.00      1.00      1.00      2000\n",
      "weighted avg       1.00      1.00      1.00      2000\n",
      "\n",
      "================== XGBoost Classifier ================\n",
      "              precision    recall  f1-score   support\n",
      "\n",
      "           0       1.00      1.00      1.00       727\n",
      "           1       1.00      1.00      1.00       412\n",
      "           2       1.00      1.00      1.00       861\n",
      "\n",
      "    accuracy                           1.00      2000\n",
      "   macro avg       1.00      1.00      1.00      2000\n",
      "weighted avg       1.00      1.00      1.00      2000\n",
      "\n"
     ]
    }
   ],
   "source": [
    "# Predict using the trained Random Forest Classifier\n",
    "Prfc = rfc.predict(Xtest)\n",
    "\n",
    "# Predict using the trained XGBoost Classifier\n",
    "Pxgb = xgb.predict(Xtest)\n",
    "\n",
    "# Compute confusion matrices for both classifiers\n",
    "cm_rfc = confusion_matrix(Ytest, Prfc)\n",
    "cm_xgb = confusion_matrix(Ytest, Pxgb)\n",
    "\n",
    "# Print classification reports for both classifiers\n",
    "print(\"================== Random Forest Classifier ==========\")\n",
    "print(classification_report(Ytest, Prfc))\n",
    "print(\"================== XGBoost Classifier ================\")\n",
    "print(classification_report(Ytest, Pxgb))\n"
   ]
  },
  {
   "cell_type": "code",
   "execution_count": 6,
   "metadata": {},
   "outputs": [
    {
     "name": "stdout",
     "output_type": "stream",
     "text": [
      "========== Confusion Matrix - RFC ================\n",
      "========== Confusion Matrix - XGB ================\n"
     ]
    },
    {
     "data": {
      "text/plain": [
       "<sklearn.metrics._plot.confusion_matrix.ConfusionMatrixDisplay at 0x246a53fee50>"
      ]
     },
     "execution_count": 6,
     "metadata": {},
     "output_type": "execute_result"
    },
    {
     "data": {
      "image/png": "[encoded data removed]",
      "text/plain": [
       "<Figure size 640x480 with 2 Axes>"
      ]
     },
     "metadata": {},
     "output_type": "display_data"
    },
    {
     "data": {
      "image/png": "[encoded data removed]",
      "text/plain": [
       "<Figure size 640x480 with 2 Axes>"
      ]
     },
     "metadata": {},
     "output_type": "display_data"
    }
   ],
   "source": [
    "# Print title for Random Forest Classifier confusion matrix\n",
    "print(\"========== Confusion Matrix - RFC ================\")\n",
    "# Create ConfusionMatrixDisplay object for Random Forest Classifier\n",
    "disp_rfc = ConfusionMatrixDisplay(confusion_matrix=cm_rfc)\n",
    "# Plot the confusion matrix for Random Forest Classifier\n",
    "disp_rfc.plot()\n",
    "\n",
    "# Print title for XGBoost Classifier confusion matrix\n",
    "print(\"========== Confusion Matrix - XGB ================\")\n",
    "# Create ConfusionMatrixDisplay object for XGBoost Classifier\n",
    "disp_xgb = ConfusionMatrixDisplay(confusion_matrix=cm_xgb)\n",
    "# Plot the confusion matrix for XGBoost Classifier\n",
    "disp_xgb.plot()"
   ]
  },
  {
   "cell_type": "code",
   "execution_count": 7,
   "metadata": {},
   "outputs": [],
   "source": [
    "# save xgboost model\n",
    "pickle.dump(xgb, open(\"xgboost_model.pkl\", \"wb\"))"
   ]
  },
  {
   "cell_type": "markdown",
   "metadata": {},
   "source": [
    "## Inference"
   ]
  },
  {
   "cell_type": "code",
   "execution_count": 8,
   "metadata": {},
   "outputs": [],
   "source": [
    "import pprint  # Import pprint module for pretty printing\n",
    "import os      # Operating system dependent functionality\n",
    "import pickle  # Import pickle module for serializing and deserializing Python objects\n",
    "import datetime\n",
    "import numpy as np  # Import numpy for numerical operations\n",
    "import pandas as pd  # Import pandas for data manipulation and analysis"
   ]
  },
  {
   "cell_type": "code",
   "execution_count": 9,
   "metadata": {},
   "outputs": [],
   "source": [
    "# Load the XGBoost model from the pickle file \"xgboost_model.pkl\"\n",
    "with open(\"xgboost_model.pkl\", \"rb\") as f:\n",
    "    model = pickle.load(f)"
   ]
  },
  {
   "cell_type": "code",
   "execution_count": 19,
   "metadata": {},
   "outputs": [],
   "source": [
    "# Sample data dictionary containing water quality measurements\n",
    "sample_data = {\n",
    "            'ph': 6.1,                   # pH measurement\n",
    "            'turbidity': 40,             # Turbidity measurement\n",
    "            'tds': 500,                  # Total Dissolved Solids (TDS) measurement\n",
    "            'water_temperature':32,     # Water temperature measurement\n",
    "            'humidity': 20,              # Humidity measurement\n",
    "            'temperature': 32            # Temperature measurement\n",
    "            }"
   ]
  },
  {
   "cell_type": "code",
   "execution_count": 20,
   "metadata": {},
   "outputs": [],
   "source": [
    "def inference_water_quality(data):\n",
    "    \"\"\"\n",
    "    Perform inference to predict water quality label based on input data.\n",
    "\n",
    "    Args:\n",
    "    data (dict): A dictionary containing water quality measurements.\n",
    "\n",
    "    Returns:\n",
    "    str: Predicted water quality label (\"Good\" or \"Bad\").\n",
    "    \"\"\"\n",
    "    # Convert input data into DataFrame\n",
    "    df_ = pd.DataFrame(data, index=[0])\n",
    "    \n",
    "    # Reshape data for model prediction\n",
    "    x = df_.values\n",
    "    x = x.reshape(1, -1)\n",
    "    \n",
    "    # Perform prediction using the model and extract probability\n",
    "    p = model.predict(x).squeeze()\n",
    "    \n",
    "    # Determine label based on predicted probability\n",
    "    if p == 0:\n",
    "        label = \"Bad\"\n",
    "    elif p == 1:\n",
    "        label = \"Normal\"\n",
    "    else:\n",
    "        label = \"Good\"\n",
    "    \n",
    "    return label\n"
   ]
  },
  {
   "cell_type": "code",
   "execution_count": 21,
   "metadata": {},
   "outputs": [
    {
     "data": {
      "text/plain": [
       "'Normal'"
      ]
     },
     "execution_count": 21,
     "metadata": {},
     "output_type": "execute_result"
    }
   ],
   "source": [
    "inference_water_quality(sample_data)"
   ]
  }
 ],
 "metadata": {
  "kernelspec": {
   "display_name": "myenv",
   "language": "python",
   "name": "python3"
  },
  "language_info": {
   "codemirror_mode": {
    "name": "ipython",
    "version": 3
   },
   "file_extension": ".py",
   "mimetype": "text/x-python",
   "name": "python",
   "nbconvert_exporter": "python",
   "pygments_lexer": "ipython3",
   "version": "3.8.20"
  }
 },
 "nbformat": 4,
 "nbformat_minor": 2
}
